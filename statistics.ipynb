{
  "cells": [
    {
      "cell_type": "code",
      "execution_count": null,
      "id": "b4cfc94e-fab5-4e34-9801-c699fb3109bb",
      "metadata": {
        "id": "b4cfc94e-fab5-4e34-9801-c699fb3109bb"
      },
      "outputs": [],
      "source": [
        " # Importing required libraries.\n",
        "import pandas as pd\n",
        "from scipy import stats\n",
        "import matplotlib.pyplot as plt"
      ]
    },
    {
      "cell_type": "code",
      "execution_count": null,
      "id": "b17346b4-5778-433a-b367-d71b520c2100",
      "metadata": {
        "id": "b17346b4-5778-433a-b367-d71b520c2100",
        "outputId": "4adc0703-9ae1-46a4-ae87-7874a50ca256"
      },
      "outputs": [
        {
          "data": {
            "text/html": [
              "<div>\n",
              "<style scoped>\n",
              "    .dataframe tbody tr th:only-of-type {\n",
              "        vertical-align: middle;\n",
              "    }\n",
              "\n",
              "    .dataframe tbody tr th {\n",
              "        vertical-align: top;\n",
              "    }\n",
              "\n",
              "    .dataframe thead th {\n",
              "        text-align: right;\n",
              "    }\n",
              "</style>\n",
              "<table border=\"1\" class=\"dataframe\">\n",
              "  <thead>\n",
              "    <tr style=\"text-align: right;\">\n",
              "      <th></th>\n",
              "      <th>Gender</th>\n",
              "      <th>Race/Ethnicity</th>\n",
              "      <th>Parental_Level_Of_Education</th>\n",
              "      <th>Lunch</th>\n",
              "      <th>Test_Preparation_Course</th>\n",
              "      <th>Math_Score</th>\n",
              "      <th>Reading_Score</th>\n",
              "      <th>Writing_Score</th>\n",
              "    </tr>\n",
              "  </thead>\n",
              "  <tbody>\n",
              "    <tr>\n",
              "      <th>0</th>\n",
              "      <td>Female</td>\n",
              "      <td>B</td>\n",
              "      <td>Bachelor'S Degree</td>\n",
              "      <td>Standard</td>\n",
              "      <td>NaN</td>\n",
              "      <td>72</td>\n",
              "      <td>72</td>\n",
              "      <td>74</td>\n",
              "    </tr>\n",
              "    <tr>\n",
              "      <th>1</th>\n",
              "      <td>Female</td>\n",
              "      <td>C</td>\n",
              "      <td>Some College</td>\n",
              "      <td>Standard</td>\n",
              "      <td>Completed</td>\n",
              "      <td>69</td>\n",
              "      <td>90</td>\n",
              "      <td>88</td>\n",
              "    </tr>\n",
              "    <tr>\n",
              "      <th>2</th>\n",
              "      <td>Female</td>\n",
              "      <td>B</td>\n",
              "      <td>Master'S Degree</td>\n",
              "      <td>Standard</td>\n",
              "      <td>NaN</td>\n",
              "      <td>90</td>\n",
              "      <td>95</td>\n",
              "      <td>93</td>\n",
              "    </tr>\n",
              "    <tr>\n",
              "      <th>3</th>\n",
              "      <td>Male</td>\n",
              "      <td>A</td>\n",
              "      <td>Associate'S Degree</td>\n",
              "      <td>Free/Reduced</td>\n",
              "      <td>NaN</td>\n",
              "      <td>47</td>\n",
              "      <td>57</td>\n",
              "      <td>44</td>\n",
              "    </tr>\n",
              "    <tr>\n",
              "      <th>4</th>\n",
              "      <td>Male</td>\n",
              "      <td>C</td>\n",
              "      <td>Some College</td>\n",
              "      <td>Standard</td>\n",
              "      <td>NaN</td>\n",
              "      <td>76</td>\n",
              "      <td>78</td>\n",
              "      <td>75</td>\n",
              "    </tr>\n",
              "    <tr>\n",
              "      <th>...</th>\n",
              "      <td>...</td>\n",
              "      <td>...</td>\n",
              "      <td>...</td>\n",
              "      <td>...</td>\n",
              "      <td>...</td>\n",
              "      <td>...</td>\n",
              "      <td>...</td>\n",
              "      <td>...</td>\n",
              "    </tr>\n",
              "    <tr>\n",
              "      <th>995</th>\n",
              "      <td>Female</td>\n",
              "      <td>E</td>\n",
              "      <td>Master'S Degree</td>\n",
              "      <td>Standard</td>\n",
              "      <td>Completed</td>\n",
              "      <td>88</td>\n",
              "      <td>99</td>\n",
              "      <td>95</td>\n",
              "    </tr>\n",
              "    <tr>\n",
              "      <th>996</th>\n",
              "      <td>Male</td>\n",
              "      <td>C</td>\n",
              "      <td>High School</td>\n",
              "      <td>Free/Reduced</td>\n",
              "      <td>NaN</td>\n",
              "      <td>62</td>\n",
              "      <td>55</td>\n",
              "      <td>55</td>\n",
              "    </tr>\n",
              "    <tr>\n",
              "      <th>997</th>\n",
              "      <td>Female</td>\n",
              "      <td>C</td>\n",
              "      <td>High School</td>\n",
              "      <td>Free/Reduced</td>\n",
              "      <td>Completed</td>\n",
              "      <td>59</td>\n",
              "      <td>71</td>\n",
              "      <td>65</td>\n",
              "    </tr>\n",
              "    <tr>\n",
              "      <th>998</th>\n",
              "      <td>Female</td>\n",
              "      <td>D</td>\n",
              "      <td>Some College</td>\n",
              "      <td>Standard</td>\n",
              "      <td>Completed</td>\n",
              "      <td>68</td>\n",
              "      <td>78</td>\n",
              "      <td>77</td>\n",
              "    </tr>\n",
              "    <tr>\n",
              "      <th>999</th>\n",
              "      <td>Female</td>\n",
              "      <td>D</td>\n",
              "      <td>Some College</td>\n",
              "      <td>Free/Reduced</td>\n",
              "      <td>NaN</td>\n",
              "      <td>77</td>\n",
              "      <td>86</td>\n",
              "      <td>86</td>\n",
              "    </tr>\n",
              "  </tbody>\n",
              "</table>\n",
              "<p>1000 rows × 8 columns</p>\n",
              "</div>"
            ],
            "text/plain": [
              "     Gender Race/Ethnicity Parental_Level_Of_Education         Lunch  \\\n",
              "0    Female              B           Bachelor'S Degree      Standard   \n",
              "1    Female              C                Some College      Standard   \n",
              "2    Female              B             Master'S Degree      Standard   \n",
              "3      Male              A          Associate'S Degree  Free/Reduced   \n",
              "4      Male              C                Some College      Standard   \n",
              "..      ...            ...                         ...           ...   \n",
              "995  Female              E             Master'S Degree      Standard   \n",
              "996    Male              C                 High School  Free/Reduced   \n",
              "997  Female              C                 High School  Free/Reduced   \n",
              "998  Female              D                Some College      Standard   \n",
              "999  Female              D                Some College  Free/Reduced   \n",
              "\n",
              "    Test_Preparation_Course  Math_Score  Reading_Score  Writing_Score  \n",
              "0                       NaN          72             72             74  \n",
              "1                 Completed          69             90             88  \n",
              "2                       NaN          90             95             93  \n",
              "3                       NaN          47             57             44  \n",
              "4                       NaN          76             78             75  \n",
              "..                      ...         ...            ...            ...  \n",
              "995               Completed          88             99             95  \n",
              "996                     NaN          62             55             55  \n",
              "997               Completed          59             71             65  \n",
              "998               Completed          68             78             77  \n",
              "999                     NaN          77             86             86  \n",
              "\n",
              "[1000 rows x 8 columns]"
            ]
          },
          "execution_count": 4,
          "metadata": {},
          "output_type": "execute_result"
        }
      ],
      "source": [
        "data=pd.read_csv(\"cleaned_students_performance.csv\")\n",
        "# using pandas DataFrame function to convert the csv data into tabular form\n",
        "df=pd.DataFrame(data)\n",
        "df"
      ]
    },
    {
      "cell_type": "markdown",
      "id": "3c9585b5-c7e1-4768-82b8-b2e00f2741ca",
      "metadata": {
        "id": "3c9585b5-c7e1-4768-82b8-b2e00f2741ca"
      },
      "source": [
        "# Determining the relationship between Reading_Score and Writing_Score."
      ]
    },
    {
      "cell_type": "code",
      "execution_count": null,
      "id": "53d1e105-6858-446a-b9f9-74e679fe6e7b",
      "metadata": {
        "id": "53d1e105-6858-446a-b9f9-74e679fe6e7b",
        "outputId": "6d14dc8f-1546-4bdd-bb7a-540ce9727153"
      },
      "outputs": [
        {
          "name": "stdout",
          "output_type": "stream",
          "text": [
            "Pearson correlation coefficient between Reading_Score and Writing_Score :0.95\n"
          ]
        }
      ],
      "source": [
        "pearson_corr,p_value=stats.pearsonr(df[\"Reading_Score\"],df[\"Writing_Score\"])\n",
        "print(f\"Pearson correlation coefficient between Reading_Score and Writing_Score :{round(pearson_corr ,2)}\")"
      ]
    },
    {
      "cell_type": "markdown",
      "id": "cc71a7e1-e296-4ea5-ab0d-29dd5b19eaa4",
      "metadata": {
        "id": "cc71a7e1-e296-4ea5-ab0d-29dd5b19eaa4"
      },
      "source": [
        "The above correlation value of 0.95 indicates that there is a positive linear relationship between Reading_Score and Writing_Score .It implies that\n",
        "both the variables are increasing simultaneously.For better clarification,we can use scatter plot to get a proper visualization of particular correlation.\n"
      ]
    },
    {
      "cell_type": "code",
      "execution_count": null,
      "id": "cbf822d8-3dbe-4f37-99aa-c4f5d01a122e",
      "metadata": {
        "id": "cbf822d8-3dbe-4f37-99aa-c4f5d01a122e",
        "outputId": "8ae0c1b9-36ff-4dab-8e76-64cd2571f564"
      },
      "outputs": [
        {
          "data": {
            "image/png": "[encoded data removed]",
            "text/plain": [
              "<Figure size 640x480 with 1 Axes>"
            ]
          },
          "metadata": {},
          "output_type": "display_data"
        }
      ],
      "source": [
        "plt.scatter(x=df[\"Reading_Score\"],y=df[\"Writing_Score\"])\n",
        "plt.xlabel(\"Reading_Score\")\n",
        "plt.ylabel(\"Writing_Score\")\n",
        "plt.title(\"Reading_Score VS Writing_Score\")\n",
        "plt.show()"
      ]
    },
    {
      "cell_type": "markdown",
      "id": "3dcbeb13-3766-4d22-ad20-8b2400f6b14d",
      "metadata": {
        "id": "3dcbeb13-3766-4d22-ad20-8b2400f6b14d"
      },
      "source": [
        "## Determining whether the marks scored by male in Math has significant difference with marks scored by female in Math(by using T Test).\n"
      ]
    },
    {
      "cell_type": "code",
      "execution_count": null,
      "id": "b364cab1-3a18-4fac-b532-27280aa16a1d",
      "metadata": {
        "id": "b364cab1-3a18-4fac-b532-27280aa16a1d",
        "outputId": "22978998-ba0f-4cf7-a8cd-173e54b96981"
      },
      "outputs": [
        {
          "name": "stdout",
          "output_type": "stream",
          "text": [
            "Statistic value:5.38\n",
            "P value:0.0000\n",
            "Reject the null hypothesis,there is significant difference between math score of female and male\n"
          ]
        }
      ],
      "source": [
        "#Filtering the Math_Score for male and female data separately.\n",
        "df_female=df[df[\"Gender\"]==\"Female\"]\n",
        "df_male=df[df[\"Gender\"]==\"Male\"]\n",
        "#Conducting T-test by using ttest_ind() as it is type of two sample t test.\n",
        "alpha=0.05\n",
        "t_stats,p_value=stats.ttest_ind(df_male[\"Math_Score\"],df_female[\"Math_Score\"])\n",
        "print(f\"Statistic value:{round(t_stats,2)}\")\n",
        "print(f\"P value:{p_value:.4f}\")\n",
        "if p_value<alpha:\n",
        "    print(\"Reject the null hypothesis,there is significant difference between math score of female and male\")\n",
        "else:\n",
        "    print(\"Fail to reject the null hypothesis,there is not significant difference between math score of female and male\")"
      ]
    },
    {
      "cell_type": "code",
      "execution_count": null,
      "id": "f6958d9f-ef3b-4520-8a31-76f6073a5e01",
      "metadata": {
        "id": "f6958d9f-ef3b-4520-8a31-76f6073a5e01"
      },
      "outputs": [],
      "source": []
    }
  ],
  "metadata": {
    "kernelspec": {
      "display_name": "Python [conda env:base] *",
      "language": "python",
      "name": "conda-base-py"
    },
    "language_info": {
      "codemirror_mode": {
        "name": "ipython",
        "version": 3
      },
      "file_extension": ".py",
      "mimetype": "text/x-python",
      "name": "python",
      "nbconvert_exporter": "python",
      "pygments_lexer": "ipython3",
      "version": "3.12.7"
    },
    "colab": {
      "provenance": []
    }
  },
  "nbformat": 4,
  "nbformat_minor": 5
}